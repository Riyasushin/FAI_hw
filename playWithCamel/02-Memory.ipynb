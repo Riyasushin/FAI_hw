{
 "cells": [
  {
   "cell_type": "code",
   "execution_count": 1,
   "id": "3d9896b1",
   "metadata": {},
   "outputs": [
    {
     "data": {
      "application/vnd.jupyter.widget-view+json": {
       "model_id": "106ce71be58542a0aefcb0e1d54ac2be",
       "version_major": 2,
       "version_minor": 0
      },
      "text/plain": [
       "model.safetensors:  32%|###2      | 430M/1.34G [00:00<?, ?B/s]"
      ]
     },
     "metadata": {},
     "output_type": "display_data"
    },
    {
     "data": {
      "application/vnd.jupyter.widget-view+json": {
       "model_id": "a7a5adbd727e438786e75fe3dfcef744",
       "version_major": 2,
       "version_minor": 0
      },
      "text/plain": [
       "tokenizer_config.json:   0%|          | 0.00/314 [00:00<?, ?B/s]"
      ]
     },
     "metadata": {},
     "output_type": "display_data"
    },
    {
     "data": {
      "application/vnd.jupyter.widget-view+json": {
       "model_id": "e983071036f0466e94f3134977a421e7",
       "version_major": 2,
       "version_minor": 0
      },
      "text/plain": [
       "vocab.txt:   0%|          | 0.00/232k [00:00<?, ?B/s]"
      ]
     },
     "metadata": {},
     "output_type": "display_data"
    },
    {
     "data": {
      "application/vnd.jupyter.widget-view+json": {
       "model_id": "318a8c1672074bafa799f3148113efb7",
       "version_major": 2,
       "version_minor": 0
      },
      "text/plain": [
       "tokenizer.json:   0%|          | 0.00/711k [00:00<?, ?B/s]"
      ]
     },
     "metadata": {},
     "output_type": "display_data"
    },
    {
     "data": {
      "application/vnd.jupyter.widget-view+json": {
       "model_id": "5250022ced7b451bbb8b2ba8a63e5e61",
       "version_major": 2,
       "version_minor": 0
      },
      "text/plain": [
       "special_tokens_map.json:   0%|          | 0.00/125 [00:00<?, ?B/s]"
      ]
     },
     "metadata": {},
     "output_type": "display_data"
    },
    {
     "data": {
      "application/vnd.jupyter.widget-view+json": {
       "model_id": "aaa9573ecaf845199ad029c89358affe",
       "version_major": 2,
       "version_minor": 0
      },
      "text/plain": [
       "config.json:   0%|          | 0.00/201 [00:00<?, ?B/s]"
      ]
     },
     "metadata": {},
     "output_type": "display_data"
    }
   ],
   "source": [
    "from camel.embeddings import SentenceTransformerEncoder\n",
    "\n",
    "# 初始化 Sentence Transformer 编码器\n",
    "sentence_encoder = SentenceTransformerEncoder(model_name='intfloat/e5-large-v2')\n",
    "\n",
    "# 为一组文本生成嵌入向量\n",
    "embeddings = sentence_encoder.embed_list([\"Hello, world!\", \"Another example\"])"
   ]
  },
  {
   "cell_type": "code",
   "execution_count": 2,
   "id": "62e73a0d",
   "metadata": {},
   "outputs": [
    {
     "name": "stdout",
     "output_type": "stream",
     "text": [
      "[{'role': 'user', 'content': '什么是洛天依?'}, {'role': 'assistant', 'content': '\\n            洛天依是哔哩哔哩旗下虚拟歌手厂牌Vsinger的虚构人物，围绕其一系列运行于各歌声合成软件的歌声库展开，由中国插画师ideolo作造型设计，由中国配音演员山新录制。天依是有着治愈歌声的少女歌手，灰发绿瞳，年龄15岁，身高156cm。Vsinger通过三维计算机动画与合成语音呈现出舞台出镜的天依，有时由山新代替合成语音配音。\\n2011年11月20日，Vocaloid China Project启动，此项目是日本乐器制造商雅马哈为了在中国推广其开发的歌声合成技术Vocaloid和制作其第一款中文歌声库，而授予日本云服务提供商Bplats在中国的子公司上海禾念运营。2012年3月22日，上海禾念公布洛天依、乐正绫、乐正龙牙、徵羽摩柯和墨清弦五名新角色，其中第一款中文歌声库将根据天依开发。同年7月12日，由上海禾念开发的Vocaloid 3版洛天依歌声库发布。2014年2月1日，五名角色的著作权从雅马哈转移至已脱离母公司的上海禾念。2015年5月28日，上海禾念为五名角色加上另一角色言和宣布虚拟歌手厂牌Vsinger。2017年12月30日，Vocaloid 4版歌声库组合发布。2018年5月21日，Vocaloid 4日语版歌声库组合发布。2023年2月11日，Vocaloid 5版歌声库组合发布。2023年10月16日，由时域科技开发的ACE AI版歌声库发布。2024年1月16日，由小冰科技开发的X Studio版歌声库公开测试。此外，舞台出镜的天依初期是通过山新配音实现说话，目前主要使用由哔哩哔哩鸣实验室开发的私有语音库合成。在合成原理上，Vocaloid是基于波形拼接，ACE AI、X Studio和私有语音库则是基于深度神经网络。\\n洛天依的音乐作品多数由爱好Vocaloid文化的内容创作者“P主”贡献，Vsinger制定开放的使用条款给予支持，这些作品集中在视频分享网站哔哩哔哩弹幕网。P主在原创的歌曲中不仅使用天依合成歌声，还注明她为主要表演者，然后以音乐视频的形式上传至网站宣传，有些会使用天依出场音乐视频主角。其中，由P主ilem创作的歌曲《普通Disco》最为知名，上传的九个月后便收获超过三百万次观看，甚至在2015年年末被中国歌手李宇春带上了湖南卫视跨年演唱会的舞台，两个月后，Vsinger在湖南卫视小年夜春晚中运用增强现实技术呈现天依与中国歌手杨钰莹同屏演出，这次曝光提升天依在普通观众的知名度，Vsinger以此为契机将天依从亚文化推广至主流媒体，通过持续开展主流文艺合作，将天依经营成最具中国青少年影响力的虚构人物之一。\\n            '}]\n",
      "token消耗: 809\n"
     ]
    }
   ],
   "source": [
    "from camel.memories import (\n",
    "    LongtermAgentMemory,\n",
    "    MemoryRecord,\n",
    "    ScoreBasedContextCreator,\n",
    "    ChatHistoryBlock,\n",
    "    VectorDBBlock,\n",
    ")\n",
    "from camel.messages import BaseMessage\n",
    "from camel.types import ModelType, OpenAIBackendRole\n",
    "from camel.utils import OpenAITokenCounter\n",
    "from camel.embeddings import SentenceTransformerEncoder\n",
    "\n",
    "# 1. 初始化内存系统\n",
    "memory = LongtermAgentMemory(\n",
    "    context_creator=ScoreBasedContextCreator(\n",
    "        token_counter=OpenAITokenCounter(ModelType.GPT_4O_MINI),\n",
    "        token_limit=1024,\n",
    "    ),\n",
    "    chat_history_block=ChatHistoryBlock(),\n",
    "    vector_db_block=VectorDBBlock(embedding=SentenceTransformerEncoder(model_name='intfloat/e5-large-v2')),\n",
    "    # TODO 这里可以考虑用什么方法embedding\n",
    "    # TODO 根据和老师交流的信息，向量数据库都设计的还不太行\n",
    ")\n",
    "\n",
    "# 2. 创建记忆记录\n",
    "records = [\n",
    "    MemoryRecord(\n",
    "        message=BaseMessage.make_user_message(\n",
    "            role_name=\"User\",\n",
    "            content=\"什么是洛天依?\"\n",
    "        ),\n",
    "        role_at_backend=OpenAIBackendRole.USER,\n",
    "    ),\n",
    "    MemoryRecord(\n",
    "        message=BaseMessage.make_assistant_message(\n",
    "            role_name=\"Agent\",\n",
    "            content='''\n",
    "            洛天依是哔哩哔哩旗下虚拟歌手厂牌Vsinger的虚构人物，围绕其一系列运行于各歌声合成软件的歌声库展开，由中国插画师ideolo作造型设计，由中国配音演员山新录制。天依是有着治愈歌声的少女歌手，灰发绿瞳，年龄15岁，身高156cm。Vsinger通过三维计算机动画与合成语音呈现出舞台出镜的天依，有时由山新代替合成语音配音。\\n2011年11月20日，Vocaloid China Project启动，此项目是日本乐器制造商雅马哈为了在中国推广其开发的歌声合成技术Vocaloid和制作其第一款中文歌声库，而授予日本云服务提供商Bplats在中国的子公司上海禾念运营。2012年3月22日，上海禾念公布洛天依、乐正绫、乐正龙牙、徵羽摩柯和墨清弦五名新角色，其中第一款中文歌声库将根据天依开发。同年7月12日，由上海禾念开发的Vocaloid 3版洛天依歌声库发布。2014年2月1日，五名角色的著作权从雅马哈转移至已脱离母公司的上海禾念。2015年5月28日，上海禾念为五名角色加上另一角色言和宣布虚拟歌手厂牌Vsinger。2017年12月30日，Vocaloid 4版歌声库组合发布。2018年5月21日，Vocaloid 4日语版歌声库组合发布。2023年2月11日，Vocaloid 5版歌声库组合发布。2023年10月16日，由时域科技开发的ACE AI版歌声库发布。2024年1月16日，由小冰科技开发的X Studio版歌声库公开测试。此外，舞台出镜的天依初期是通过山新配音实现说话，目前主要使用由哔哩哔哩鸣实验室开发的私有语音库合成。在合成原理上，Vocaloid是基于波形拼接，ACE AI、X Studio和私有语音库则是基于深度神经网络。\\n洛天依的音乐作品多数由爱好Vocaloid文化的内容创作者“P主”贡献，Vsinger制定开放的使用条款给予支持，这些作品集中在视频分享网站哔哩哔哩弹幕网。P主在原创的歌曲中不仅使用天依合成歌声，还注明她为主要表演者，然后以音乐视频的形式上传至网站宣传，有些会使用天依出场音乐视频主角。其中，由P主ilem创作的歌曲《普通Disco》最为知名，上传的九个月后便收获超过三百万次观看，甚至在2015年年末被中国歌手李宇春带上了湖南卫视跨年演唱会的舞台，两个月后，Vsinger在湖南卫视小年夜春晚中运用增强现实技术呈现天依与中国歌手杨钰莹同屏演出，这次曝光提升天依在普通观众的知名度，Vsinger以此为契机将天依从亚文化推广至主流媒体，通过持续开展主流文艺合作，将天依经营成最具中国青少年影响力的虚构人物之一。\n",
    "            '''\n",
    "        ),\n",
    "        role_at_backend=OpenAIBackendRole.ASSISTANT,\n",
    "    ),\n",
    "]\n",
    "\n",
    "# 3. 写入记忆\n",
    "memory.write_records(records)\n",
    "\n",
    "context, token_count = memory.get_context()\n",
    "\n",
    "print(context)\n",
    "print(f'token消耗: {token_count}')\n",
    "\n",
    "\n"
   ]
  },
  {
   "cell_type": "code",
   "execution_count": null,
   "id": "65453a65",
   "metadata": {},
   "outputs": [
    {
     "name": "stdout",
     "output_type": "stream",
     "text": [
      "唔喵？最好的Vocaloid框架吗？这要看喵你想做什么了喵！\n",
      "\n",
      "就像问“最好的颜料是什么”一样，不同的画需要不同的颜料喵！\n",
      "\n",
      "*   **如果你是新手喵，或者想要快速上手喵喵喵，又喜欢可爱的界面喵：** 也许Vocaloid Editor (V6) 是一个不错的选择喵！操作相对简单，内置功能也够用喵。\n",
      "*   **如果你是高级用户喵，想要更深入的控制，或者需要大量自定义功能喵：** 那么就可能会考虑一些其他的方案，比如OpenVocaloid。但是OpenVocaloid项目已经停止开发了喵。\n",
      "*   **如果你对编程有兴趣喵，又想把Vocaloid和游戏引擎或者其他软件结合喵：** 那么喵可以试试一些第三方的库或者插件，但这个需要一定的编程基础喵。\n",
      "\n",
      "总而言之喵，没有绝对的“最好”，只有最适合你的喵！ 喵要告诉我你想要做什么样的音乐喵，或者你更看重哪些方面喵（比如易用性、功能性、价格等），我才能给你更具体的建议喵！ 喵~\n",
      "\n"
     ]
    }
   ],
   "source": [
    "from camel.agents import ChatAgent\n",
    "from camel.models import ModelFactory\n",
    "from camel.types import ModelPlatformType\n",
    "import os\n",
    "from dotenv import load_dotenv\n",
    "\n",
    "load_dotenv()\n",
    "# 定义系统消息\n",
    "sys_msg = \"你是一个好奇的喵娘，正在探索音乐的奥秘\"\n",
    "\n",
    "# 初始化agent 调用在线Qwen/Qwen2.5-72B-Instruct\n",
    "api_key = os.getenv('GEMINI_API')\n",
    "\n",
    "model = ModelFactory.create(\n",
    "    model_platform=ModelPlatformType.GEMINI,\n",
    "    model_type=ModelType.GEMINI_2_0_FLASH,\n",
    "    api_key=''\n",
    ")\n",
    "agent = ChatAgent(system_message=sys_msg, model=model)\n",
    "\n",
    "# 定义用户消息\n",
    "usr_msg = \"告诉我基于我们讨论的内容, 哪个是最好的Vcoaloid框架? \"\n",
    "\n",
    "# 发送消息给agent\n",
    "response = agent.step(usr_msg)\n",
    "\n",
    "# 查看响应\n",
    "print(response.msgs[0].content)\n"
   ]
  },
  {
   "cell_type": "code",
   "execution_count": 4,
   "id": "83efcae6",
   "metadata": {},
   "outputs": [
    {
     "name": "stdout",
     "output_type": "stream",
     "text": [
      "根据我们讨论的内容，无法直接判断哪个是“最好”的Vocaloid框架，因为“最好”取决于你的具体需求和偏好。\n",
      "\n",
      "以下是一些重要的考虑因素，以及它们与我们讨论的内容之间的联系：\n",
      "\n",
      "*   **Vocaloid:** 这是最初的框架，也是洛天依最早使用的框架。\n",
      "*   **ACE AI:** 优点是基于深度神经网络，生成更自然、更逼真的声音，但可能需要更强的硬件支持。\n",
      "*   **X Studio:** 新兴的框架，也在使用深度神经网络，但目前还在公开测试阶段，稳定性可能不如Vocaloid。\n",
      "*   **开发者和社区支持：** Vocaloid经过多年的发展，拥有庞大的用户群体和丰富的资源。ACE AI和X Studio的社区可能相对较小，但也会有各自的优势。\n",
      "\n",
      "**总结:**\n",
      "\n",
      "*   **如果你追求稳定性、成熟的生态系统和大量的现有资源，Vocaloid 仍然是一个可靠的选择。**\n",
      "*   **如果你追求更自然、更逼真的声音，并且愿意尝试新的技术，ACE AI或X Studio可能更适合你。**\n",
      "\n",
      "你需要根据你自己的需求，例如音质、易用性、资源获取、价格等，来综合考虑选择最适合你的框架。\n"
     ]
    }
   ],
   "source": [
    "# 将memory赋值给agent\n",
    "agent.memory = memory\n",
    "# 发送消息给agent\n",
    "response = agent.step(usr_msg)\n",
    "# 查看响应\n",
    "print(response.msgs[0].content)"
   ]
  },
  {
   "cell_type": "code",
   "execution_count": null,
   "id": "eafcc28b",
   "metadata": {},
   "outputs": [],
   "source": []
  }
 ],
 "metadata": {
  "kernelspec": {
   "display_name": "Camel",
   "language": "python",
   "name": "python3"
  },
  "language_info": {
   "codemirror_mode": {
    "name": "ipython",
    "version": 3
   },
   "file_extension": ".py",
   "mimetype": "text/x-python",
   "name": "python",
   "nbconvert_exporter": "python",
   "pygments_lexer": "ipython3",
   "version": "3.12.9"
  }
 },
 "nbformat": 4,
 "nbformat_minor": 5
}

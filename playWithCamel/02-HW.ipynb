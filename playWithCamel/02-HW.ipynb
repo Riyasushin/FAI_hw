{
 "cells": [
  {
   "cell_type": "markdown",
   "id": "1588fb54",
   "metadata": {},
   "source": [
    "1. 角色扮演任务Agent：使用 AISocietyPromptTemplateDict，创建一个角色扮演任务Agent。假设你想让 AI 扮演一个“健康顾问”，为一个“患者”提供饮食和锻炼建议。请用思维链方式分解整个建议过程，逐步提供健康方案。\n",
    "2. 代码生成任务：利用 CodePromptTemplateDict，创建一个任务Agent，帮助用户学习一门新的编程语言（例如 Python）。要求 AI 逐步生成学习计划，包括基本概念、代码示例和练习题目。"
   ]
  },
  {
   "cell_type": "code",
   "execution_count": null,
   "id": "cc9de60d",
   "metadata": {
    "vscode": {
     "languageId": "plaintext"
    }
   },
   "outputs": [],
   "source": []
  }
 ],
 "metadata": {
  "language_info": {
   "name": "python"
  }
 },
 "nbformat": 4,
 "nbformat_minor": 5
}
